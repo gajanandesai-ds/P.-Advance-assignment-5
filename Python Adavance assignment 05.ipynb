{
 "cells": [
  {
   "cell_type": "raw",
   "id": "cb68f267",
   "metadata": {},
   "source": [
    "Q1. What is the meaning of multiple inheritance?"
   ]
  },
  {
   "cell_type": "code",
   "execution_count": 5,
   "id": "c4bf3014",
   "metadata": {},
   "outputs": [
    {
     "name": "stdout",
     "output_type": "stream",
     "text": [
      "multi_task\n",
      "name:nyra\n"
     ]
    }
   ],
   "source": [
    "class ineuron:\n",
    "    company_website='https://ineoron.ai/'\n",
    "    name ='ineuron'\n",
    "        \n",
    "    def contact_details(self):\n",
    "        print('contact us at',self.company_website)\n",
    "            \n",
    "class os:\n",
    "    multi_task=True\n",
    "    os_name='windows os'\n",
    "    name='nyra'\n",
    "    \n",
    "class windows(os,ineuron):\n",
    "    def __init__(self):\n",
    "        if self.multi_task is True:\n",
    "            print('multi_task')\n",
    "        print('name:{}'.format(self.name))\n",
    "windows = windows()"
   ]
  },
  {
   "cell_type": "code",
   "execution_count": null,
   "id": "ec05f620",
   "metadata": {},
   "outputs": [],
   "source": []
  },
  {
   "cell_type": "code",
   "execution_count": null,
   "id": "2c13c35e",
   "metadata": {},
   "outputs": [],
   "source": []
  },
  {
   "cell_type": "raw",
   "id": "7dc64f7a",
   "metadata": {},
   "source": [
    "Q2. What is the concept of delegation?"
   ]
  },
  {
   "cell_type": "raw",
   "id": "42903ca0",
   "metadata": {},
   "source": [
    "ans:Deligation is an object or oriented technique(also called a design pattern), lets say we have an object x and want to change the behaviour of. just one of its methods. we can create a new class that provides a new implementation of the mehods we're interested in chsngings and delegates all others methods to the corresponding methods of x.\n",
    "\n",
    "\n",
    "delegation can be implemented easily. for example, the follwoing class implements a class that behaves like a fiel but converts all written data to uppercase."
   ]
  },
  {
   "cell_type": "code",
   "execution_count": 6,
   "id": "29606210",
   "metadata": {},
   "outputs": [],
   "source": [
    "class upperout:\n",
    "    def __init__(self,outfile):\n",
    "        self.__outfile=outfile\n",
    "        \n",
    "    def write(self,s):\n",
    "        self.__outfile.write(s.upper())\n",
    "    def __getattr__(self,name):\n",
    "        return getattr(self.__outfile,name)"
   ]
  },
  {
   "cell_type": "code",
   "execution_count": null,
   "id": "78deb1d1",
   "metadata": {},
   "outputs": [],
   "source": []
  },
  {
   "cell_type": "code",
   "execution_count": null,
   "id": "02c44e41",
   "metadata": {},
   "outputs": [],
   "source": []
  },
  {
   "cell_type": "raw",
   "id": "ad00df28",
   "metadata": {},
   "source": [
    "Q3. What is the concept of composition?"
   ]
  },
  {
   "cell_type": "raw",
   "id": "b3e96ea7",
   "metadata": {},
   "source": [
    "ans: it is one of the fundamental concepts of object-oriented Programming. in this concept we describe a class that refernce to one or more oject of other classes as an instance variable.here by using the class name or by creating the object we can access the members of one class inside another class. it enables creating complex types by combining object of differnt classes. it meance that a class comosite can contain an object of another class component. this type of relationship is known as has-a relation."
   ]
  },
  {
   "cell_type": "code",
   "execution_count": null,
   "id": "54ff6878",
   "metadata": {},
   "outputs": [],
   "source": []
  },
  {
   "cell_type": "code",
   "execution_count": null,
   "id": "d6080781",
   "metadata": {},
   "outputs": [],
   "source": []
  },
  {
   "cell_type": "raw",
   "id": "cf7bb7d9",
   "metadata": {},
   "source": [
    "Q4. What are bound methods and how do we use them?"
   ]
  },
  {
   "cell_type": "raw",
   "id": "255b6b70",
   "metadata": {},
   "source": [
    "ans: A bound method is the one which is dependent on the instance of the class as the first argument. it passes the instance as the first arguments which is used to access the  variables and function. in python 3 and newr version of python all function in the class are by defalut bound methods."
   ]
  },
  {
   "cell_type": "code",
   "execution_count": null,
   "id": "b407de94",
   "metadata": {},
   "outputs": [],
   "source": []
  },
  {
   "cell_type": "code",
   "execution_count": null,
   "id": "50917b75",
   "metadata": {},
   "outputs": [],
   "source": []
  },
  {
   "cell_type": "raw",
   "id": "931f201f",
   "metadata": {},
   "source": [
    "Q5. What is the purpose of pseudoprivate attributes?"
   ]
  },
  {
   "cell_type": "raw",
   "id": "74e4436f",
   "metadata": {},
   "source": [
    "ans: Pseudopprivate attributes are useful in larger frameworks or tools, bothto avoid introducing new method names that might accidentally hide definitions elsewhere in the class tree and and to reduce the chance of internal methods being replaced by names defined lower in the tree."
   ]
  },
  {
   "cell_type": "code",
   "execution_count": 8,
   "id": "3747c7d7",
   "metadata": {},
   "outputs": [
    {
     "name": "stdout",
     "output_type": "stream",
     "text": [
      "nyra\n",
      "nyra\n"
     ]
    }
   ],
   "source": [
    "class info:\n",
    "    def __init__(self):\n",
    "        self.__name = \"nyra\"\n",
    "    def __say(self):\n",
    "        return self.__name\n",
    "    \n",
    "a= info()\n",
    "print(a._info__name)\n",
    "print(a._info__say())"
   ]
  },
  {
   "cell_type": "code",
   "execution_count": null,
   "id": "e81e085b",
   "metadata": {},
   "outputs": [],
   "source": []
  }
 ],
 "metadata": {
  "kernelspec": {
   "display_name": "Python 3",
   "language": "python",
   "name": "python3"
  },
  "language_info": {
   "codemirror_mode": {
    "name": "ipython",
    "version": 3
   },
   "file_extension": ".py",
   "mimetype": "text/x-python",
   "name": "python",
   "nbconvert_exporter": "python",
   "pygments_lexer": "ipython3",
   "version": "3.8.8"
  }
 },
 "nbformat": 4,
 "nbformat_minor": 5
}
